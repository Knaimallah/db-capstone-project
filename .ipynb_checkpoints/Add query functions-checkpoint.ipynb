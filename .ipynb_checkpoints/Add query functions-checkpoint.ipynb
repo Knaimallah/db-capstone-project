{
 "cells": [
  {
   "cell_type": "code",
   "execution_count": 1,
   "id": "88122d83",
   "metadata": {},
   "outputs": [
    {
     "name": "stdout",
     "output_type": "stream",
     "text": [
      "Requirement already satisfied: mysql-connector-python in c:\\users\\knaimallah\\appdata\\local\\packages\\pythonsoftwarefoundation.python.3.10_qbz5n2kfra8p0\\localcache\\local-packages\\python310\\site-packages (8.0.33)\n",
      "Requirement already satisfied: protobuf<=3.20.3,>=3.11.0 in c:\\users\\knaimallah\\appdata\\local\\packages\\pythonsoftwarefoundation.python.3.10_qbz5n2kfra8p0\\localcache\\local-packages\\python310\\site-packages (from mysql-connector-python) (3.20.3)\n"
     ]
    }
   ],
   "source": [
    "!pip install mysql-connector-python"
   ]
  },
  {
   "cell_type": "code",
   "execution_count": 2,
   "id": "bc057f5a",
   "metadata": {},
   "outputs": [],
   "source": [
    "import mysql.connector as connector"
   ]
  },
  {
   "cell_type": "code",
   "execution_count": 7,
   "id": "634b254d",
   "metadata": {},
   "outputs": [],
   "source": [
    "connection = connector.connect(host= '127.0.0.1', user = \"Karimcoursera\", password = \"Password123!\", db = \"LittleLemonDB\")"
   ]
  },
  {
   "cell_type": "code",
   "execution_count": 8,
   "id": "f119bcca",
   "metadata": {},
   "outputs": [],
   "source": [
    "cursor=connection.cursor()"
   ]
  },
  {
   "cell_type": "code",
   "execution_count": 14,
   "id": "2e24bf25",
   "metadata": {},
   "outputs": [],
   "source": [
    "show_tables_query = \"SHOW tables\" \n",
    "cursor.execute(show_tables_query)"
   ]
  },
  {
   "cell_type": "code",
   "execution_count": 15,
   "id": "56bf39eb",
   "metadata": {},
   "outputs": [],
   "source": [
    "results = cursor.fetchall()"
   ]
  },
  {
   "cell_type": "code",
   "execution_count": 17,
   "id": "58618f0f",
   "metadata": {},
   "outputs": [
    {
     "name": "stdout",
     "output_type": "stream",
     "text": [
      "bookings\n",
      "contactdetails\n",
      "customers\n",
      "menucontent\n",
      "menuitems\n",
      "menus\n",
      "orderdeliverystatus\n",
      "orders\n",
      "ordersview\n",
      "roles\n",
      "staff\n"
     ]
    }
   ],
   "source": [
    "for table in tables:\n",
    "    print(table[0])"
   ]
  },
  {
   "cell_type": "code",
   "execution_count": 39,
   "id": "2af3acbb",
   "metadata": {},
   "outputs": [],
   "source": [
    "customer_join_query = '''\n",
    "        SELECT\n",
    "            c.Name AS FullName,\n",
    "            cd.Email AS Email,\n",
    "            cd.PhoneNumber AS PhoneNumber,\n",
    "            cd.Address AS Address,\n",
    "            cd.Country AS Country,\n",
    "            cd.City AS City,\n",
    "            o.TotalCost AS Cost\n",
    "        FROM Customers c\n",
    "        JOIN ContactDetails cd\n",
    "            on cd.CutsomerID = c.CustomerID\n",
    "        JOIN orders o\n",
    "            on o.CustomerID = c.CustomerID\n",
    "        WHERE o.TotalCost > '60'\n",
    "        ORDER BY o.TotalCost DESC;\n",
    "'''"
   ]
  },
  {
   "cell_type": "code",
   "execution_count": 40,
   "id": "b6fe012f",
   "metadata": {},
   "outputs": [],
   "source": [
    "cursor.execute(customer_join_query)"
   ]
  },
  {
   "cell_type": "code",
   "execution_count": 41,
   "id": "bdc7ded5",
   "metadata": {},
   "outputs": [],
   "source": [
    "results = cursor.fetchall()"
   ]
  },
  {
   "cell_type": "code",
   "execution_count": 42,
   "id": "097bd7bf",
   "metadata": {},
   "outputs": [
    {
     "name": "stdout",
     "output_type": "stream",
     "text": [
      "You have 0 customers that spent more than $60\n",
      "Printing these customers...\n"
     ]
    }
   ],
   "source": [
    "print(f'You have {len(results)} customers that spent more than $60')\n",
    "print('Printing these customers...')\n",
    "\n",
    "for result in results:\n",
    "    print(f'Full Name: \\t {result[0]}')\n",
    "    print(f'Email: \\t\\t {result[1]}')\n",
    "    print(f'Phone Number: \\t {result[2]}')\n",
    "    print(f'Address: \\t {result[3]}')\n",
    "    print(f'Country: \\t {result[4]}')\n",
    "    print(f'City: \\t\\t {result[5]}')\n",
    "    print(f'Spent: \\t {float(result[6])}')"
   ]
  },
  {
   "cell_type": "code",
   "execution_count": null,
   "id": "7b84b5b3",
   "metadata": {},
   "outputs": [],
   "source": []
  }
 ],
 "metadata": {
  "kernelspec": {
   "display_name": "Python 3 (ipykernel)",
   "language": "python",
   "name": "python3"
  },
  "language_info": {
   "codemirror_mode": {
    "name": "ipython",
    "version": 3
   },
   "file_extension": ".py",
   "mimetype": "text/x-python",
   "name": "python",
   "nbconvert_exporter": "python",
   "pygments_lexer": "ipython3",
   "version": "3.10.11"
  }
 },
 "nbformat": 4,
 "nbformat_minor": 5
}
